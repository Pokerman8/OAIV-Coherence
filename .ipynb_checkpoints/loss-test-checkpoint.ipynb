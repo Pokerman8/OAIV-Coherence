{
 "cells": [
  {
   "cell_type": "code",
   "execution_count": 1,
   "metadata": {},
   "outputs": [
    {
     "ename": "",
     "evalue": "",
     "output_type": "error",
     "traceback": [
      "\u001b[1;31mThe Kernel crashed while executing code in the the current cell or a previous cell. Please review the code in the cell(s) to identify a possible cause of the failure. Click <a href='https://aka.ms/vscodeJupyterKernelCrash'>here</a> for more info. View Jupyter <a href='command:jupyter.viewOutput'>log</a> for further details."
     ]
    }
   ],
   "source": [
    "import cv2\n",
    "import numpy as np\n",
    "\n",
    "# 加载遮罩图像（这里使用的路径需要根据你的文件实际位置进行修改）\n",
    "mask1 = cv2.imread('/inspurfs/group/gaoshh/jinjiping/UDIS2/composition/learn_mask1/000525.jpg', 0)  # 图一遮罩\n",
    "mask2 = cv2.imread('/inspurfs/group/gaoshh/jinjiping/UDIS2/composition/learn_mask2/000525.jpg', 0)  # 图二遮罩\n",
    "\n",
    "# 加载拼接后的图像\n",
    "stitched_img = cv2.imread('/inspurfs/group/gaoshh/jinjiping/UDIS2/composition/composition/000525.jpg')  # 图三\n",
    "\n",
    "# 检测遮罩的边缘\n",
    "edges1 = cv2.Canny(mask1, 100, 200)\n",
    "edges2 = cv2.Canny(mask2, 100, 200)\n",
    "\n",
    "# 结合两个边界\n",
    "combined_edges = cv2.bitwise_or(edges1, edges2)\n",
    "\n",
    "# 为了在拼接图像中显示边界，我们将边界线着色为红色\n",
    "# 创建一个全红色的图像\n",
    "red_edges = np.zeros_like(stitched_img)\n",
    "red_edges[:, :, 2] = combined_edges  # 只在红色通道上赋值边界\n",
    "\n",
    "# 将红色边界叠加到拼接图像上\n",
    "stitched_with_edges = cv2.addWeighted(stitched_img, 1, red_edges, 1, 0)\n",
    "\n",
    "# 显示结果\n",
    "cv2.imshow('Stitched Image with Edges', stitched_with_edges)\n",
    "cv2.waitKey(0)\n",
    "cv2.destroyAllWindows()\n",
    "\n",
    "# 如果需要保存结果\n",
    "cv2.imwrite('/public/home/jinjiping2023/OASD/oasd/test-data/stitched_with_edges.png', stitched_with_edges)\n"
   ]
  },
  {
   "cell_type": "code",
   "execution_count": null,
   "metadata": {},
   "outputs": [],
   "source": []
  },
  {
   "cell_type": "code",
   "execution_count": null,
   "metadata": {},
   "outputs": [],
   "source": []
  },
  {
   "cell_type": "code",
   "execution_count": null,
   "metadata": {},
   "outputs": [],
   "source": []
  }
 ],
 "metadata": {
  "kernelspec": {
   "display_name": "jjp-flare",
   "language": "python",
   "name": "python3"
  },
  "language_info": {
   "codemirror_mode": {
    "name": "ipython",
    "version": 3
   },
   "file_extension": ".py",
   "mimetype": "text/x-python",
   "name": "python",
   "nbconvert_exporter": "python",
   "pygments_lexer": "ipython3",
   "version": "3.11.7"
  }
 },
 "nbformat": 4,
 "nbformat_minor": 2
}
